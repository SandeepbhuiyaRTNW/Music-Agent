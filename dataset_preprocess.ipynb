{
 "cells": [
  {
   "cell_type": "code",
   "execution_count": null,
   "id": "02c7e690-19f6-4393-a1e0-bfc1eb5632f9",
   "metadata": {},
   "outputs": [],
   "source": [
    "!pip install -U joblib\n",
    "!pip install -U ipywidgets\n",
    "!pip install -U tqdm"
   ]
  },
  {
   "cell_type": "code",
   "execution_count": null,
   "id": "5d0fd231-9b57-4bc3-b08f-3a8dce0287ee",
   "metadata": {
    "ExecuteTime": {
     "end_time": "2024-09-26T03:56:06.687771Z",
     "start_time": "2024-09-26T03:56:06.674763Z"
    }
   },
   "outputs": [],
   "source": [
    "from midi_tokenizer import MIDITokenizer\n",
    "\n",
    "import MIDI \n",
    "# Note: The original MIDI.py has poor performance because list.pop(0) has poor performance on some pythons or machines. I changed it to list = list[1:]\n",
    "\n",
    "import os\n",
    "import glob\n",
    "import re\n",
    "from tqdm import tqdm\n",
    "from pathlib import Path\n",
    "import shutil\n",
    "import random\n",
    "\n",
    "from joblib import Parallel, delayed, parallel_config"
   ]
  },
  {
   "cell_type": "code",
   "execution_count": null,
   "id": "4954c58615b62ea4",
   "metadata": {
    "ExecuteTime": {
     "end_time": "2024-09-26T03:56:07.269183Z",
     "start_time": "2024-09-26T03:56:07.249515Z"
    }
   },
   "outputs": [],
   "source": [
    "tokenizer = MIDITokenizer()\n",
    "\n",
    "#======================================================================================\n",
    "\n",
    "move_files = False # Move processed and bad MIDIs or only copy them\n",
    "\n",
    "#======================================================================================\n",
    "\n",
    "def process_midi_file(midi_file):\n",
    "    try:\n",
    "        with open(midi_file, 'rb') as f:\n",
    "            datas = f.read()\n",
    "    except Exception:\n",
    "        print(midi_file)\n",
    "        return\n",
    "    res = []\n",
    "    if len(datas) > 384000:  # file too large that can not load by `MIDI.midi2score`\n",
    "        res.append(\"large\")\n",
    "    elif len(datas) < 3000:\n",
    "        res.append(\"small\")\n",
    "    if not res:\n",
    "        try:\n",
    "            mid = MIDI.midi2score(datas)\n",
    "            mid = tokenizer.tokenize(mid)\n",
    "            quality, res = tokenizer.check_quality(mid)\n",
    "        except Exception:\n",
    "            quality = False\n",
    "            res = [\"unk\"] # broken midi file or Exception in the code\n",
    "    else:\n",
    "        quality = False\n",
    "        \n",
    "    if quality:\n",
    "        path = midi_file.replace(dataset_dir, f\"{processed_dir}/\")\n",
    "        path = Path(path)\n",
    "        path.parent.mkdir(parents=True, exist_ok=True)\n",
    "\n",
    "        if move_files:\n",
    "            shutil.move(midi_file, path)\n",
    "\n",
    "        else:\n",
    "            shutil.copy2(midi_file, path)\n",
    "    else:\n",
    "        res = \"_\".join(res)\n",
    "        path = midi_file.replace(dataset_dir, f\"{rm_dir}/{res}/\")\n",
    "        path = Path(path)\n",
    "        path.parent.mkdir(parents=True, exist_ok=True)\n",
    "        \n",
    "        if move_files:\n",
    "            shutil.move(midi_file, path)\n",
    "\n",
    "        else:\n",
    "            shutil.copy2(midi_file, path)"
   ]
  },
  {
   "cell_type": "code",
   "execution_count": null,
   "id": "70af1fc8172b064b",
   "metadata": {
    "ExecuteTime": {
     "end_time": "2024-09-26T03:56:14.151436Z",
     "start_time": "2024-09-26T03:56:14.144923Z"
    }
   },
   "outputs": [],
   "source": [
    "dataset_dir = r\"/home/ubuntu/SOURCE/MIDIs\" # Source MIDI dataset directory\n",
    "processed_dir = r\"/home/ubuntu/OUTPUT/processed_midis\" # All processed midi will be moved to here. The folder will be created automatically.\n",
    "rm_dir = r\"/home/ubuntu/OUTPUT/bad_midis\" # badAll bad midi will be moved here. The folder will be created automatically."
   ]
  },
  {
   "cell_type": "code",
   "execution_count": null,
   "id": "ffc52c85-0a0a-46b0-bbb9-d8dcec4f2a80",
   "metadata": {
    "ExecuteTime": {
     "end_time": "2024-09-26T03:56:17.065171Z",
     "start_time": "2024-09-26T03:56:15.029956Z"
    }
   },
   "outputs": [],
   "source": [
    "midi_files = glob.glob(f\"{dataset_dir}/**/*\", recursive=True)\n",
    "midi_files = [file for file in midi_files if re.search(r'\\.midi?$', file, re.IGNORECASE)]\n",
    "midi_files = sorted(midi_files)"
   ]
  },
  {
   "cell_type": "code",
   "execution_count": null,
   "id": "4a478b13-ef64-4145-aa17-b50779c9efc0",
   "metadata": {
    "ExecuteTime": {
     "end_time": "2024-09-26T03:56:47.931850Z",
     "start_time": "2024-09-26T03:56:47.922667Z"
    }
   },
   "outputs": [],
   "source": [
    "# check if dataset_dir is correct\n",
    "print(len(midi_files))\n",
    "print(random.choice(midi_files))"
   ]
  },
  {
   "cell_type": "code",
   "execution_count": null,
   "id": "d294f226332745c9",
   "metadata": {
    "ExecuteTime": {
     "end_time": "2024-09-26T03:57:07.239075500Z",
     "start_time": "2024-09-26T03:56:57.902649Z"
    }
   },
   "outputs": [],
   "source": [
    "# start processing...\n",
    "\n",
    "NUMBER_OF_PARALLEL_JOBS = 128 # Number of parallel jobs\n",
    "NUMBER_OF_FILES_PER_ITERATION = 256 # Number of files to queue for each parallel iteration\n",
    "\n",
    "print('=' * 70)\n",
    "print('Processing MIDI files. Please wait...')\n",
    "print('=' * 70)\n",
    "\n",
    "for i in tqdm(range(0, len(midi_files), NUMBER_OF_FILES_PER_ITERATION)):\n",
    "\n",
    "    with parallel_config(n_jobs=NUMBER_OF_PARALLEL_JOBS, verbose = 0):\n",
    "\n",
    "        Parallel(backend='loky', n_jobs=NUMBER_OF_PARALLEL_JOBS, verbose=0)(delayed(process_midi_file)(f) for f in midi_files[i:i+NUMBER_OF_FILES_PER_ITERATION])\n",
    "\n",
    "print('=' * 70)\n",
    "print('Done!')\n",
    "print('=' * 70)"
   ]
  },
  {
   "cell_type": "code",
   "execution_count": null,
   "id": "d15aaa7b7a4d41b1",
   "metadata": {},
   "outputs": [],
   "source": [
    "# Calculate the number of processed and bad MIDIs\n",
    "\n",
    "print('=' * 70)\n",
    "print('Scannging processed MIDIs dir...')\n",
    "\n",
    "processed_midis = []\n",
    "\n",
    "for (dirpath, dirnames, filenames) in os.walk(processed_dir):\n",
    "    processed_midis += [os.path.join(dirpath, file) for file in filenames]\n",
    "\n",
    "print('=' * 70)\n",
    "print('Scannging bad MIDIs dir...')\n",
    "\n",
    "bad_midis = []\n",
    "\n",
    "for (dirpath, dirnames, filenames) in os.walk(rm_dir):\n",
    "    bad_midis += [os.path.join(dirpath, file) for file in filenames]\n",
    "\n",
    "print('=' * 70)\n",
    "print('Number of good MIDIs:', len(processed_midis))\n",
    "print('Number of bad MIDIs:', len(bad_midis))\n",
    "print('=' * 70)"
   ]
  }
 ],
 "metadata": {
  "kernelspec": {
   "display_name": "Python 3 (ipykernel)",
   "language": "python",
   "name": "python3"
  },
  "language_info": {
   "codemirror_mode": {
    "name": "ipython",
    "version": 3
   },
   "file_extension": ".py",
   "mimetype": "text/x-python",
   "name": "python",
   "nbconvert_exporter": "python",
   "pygments_lexer": "ipython3",
   "version": "3.12.7"
  }
 },
 "nbformat": 4,
 "nbformat_minor": 5
}
